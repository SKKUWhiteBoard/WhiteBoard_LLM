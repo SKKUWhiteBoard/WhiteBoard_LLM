{
 "cells": [
  {
   "cell_type": "code",
   "execution_count": null,
   "metadata": {},
   "outputs": [],
   "source": [
    "import torch.nn.functional as F\n",
    "from transformers import AutoTokenizer, AutoModel\n",
    "import numpy as np\n",
    "import torch\n",
    "\n",
    "from datasets import load_dataset\n",
    "import matplotlib.pyplot as plt\n",
    "import seaborn as sns\n",
    "from rouge_score import rouge_scorer\n",
    "from bert_score import score as bert_score\n",
    "\n",
    "import yaml\n",
    "from box import Box\n",
    "import os\n",
    "\n",
    "from utils.eval_similarity import *\n",
    "from utils.utils import *\n",
    "from utils.segment_embedding import *\n",
    "from transformers import AutoTokenizer, AutoModelForSeq2SeqLM\n",
    "\n",
    "from utils.concat_functions import *\n",
    "from utils.summarizer import *"
   ]
  },
  {
   "cell_type": "code",
   "execution_count": null,
   "metadata": {},
   "outputs": [
    {
     "name": "stdout",
     "output_type": "stream",
     "text": [
      "segment-length-100\n"
     ]
    }
   ],
   "source": [
    "# load config ----------------------\n",
    "with open(\"config.yaml\", \"r\") as f:\n",
    "    config = yaml.load(f, Loader=yaml.FullLoader)\n",
    "    config = Box(config)\n",
    "\n",
    "print(config.experiment_name)"
   ]
  },
  {
   "cell_type": "code",
   "execution_count": null,
   "metadata": {},
   "outputs": [],
   "source": [
    "# load data ----------------------\n",
    "open_source_datasets = load_dataset(config.open_source_datasets)[\"train\"][\"report\"] # gov-report data, if other datasets check the key name\n",
    "youtube_datasets = load_dataset(config.youtube_datasets)[\"train\"]\n",
    "print(open_source_datasets, youtube_datasets)"
   ]
  },
  {
   "cell_type": "markdown",
   "metadata": {},
   "source": [
    "### IMPORTANT: SELECT DATA FOR EXPERIMENT "
   ]
  },
  {
   "cell_type": "code",
   "execution_count": null,
   "metadata": {},
   "outputs": [],
   "source": [
    "# select data for experiment ----------------------\n",
    "experiment_texts = open_source_datasets.select(range(100))\n",
    "# experiment_texts = youtube_datasets.select(range(100))"
   ]
  },
  {
   "cell_type": "code",
   "execution_count": null,
   "metadata": {},
   "outputs": [],
   "source": [
    "# run experiment ----------------------\n",
    "summaries = []\n",
    "results = []\n",
    "\n",
    "for i in range(len(experiment_texts)):\n",
    "    texts = experiment_texts[i]\n",
    "    print(texts)\n",
    "\n",
    "    # texts to segments ----------------------\n",
    "    segments = segmentate_sentence(full_text, n_word, n_overlap, False)\n",
    "    embeddings = encode_segments(segments)\n",
    "\n",
    "    # concatenate segements ----------------------\n",
    "    concatenated_indexes = concate_time_based(embeddings)\n",
    "\n",
    "    # based on concatenated indexes make theme segements ----------------------\n",
    "    theme_segments = [segments[i] for i in concatenated_indexes]\n",
    "\n",
    "    # make summary ----------------------\n",
    "    summary = summarizer(\n",
    "        theme_segments, \n",
    "        model=config.summary.model, \n",
    "        max_length=config.summary.max_length,\n",
    "        min_length=config.summary.min_length\n",
    "    )\n",
    "    summaries.append(summary)\n",
    "\n",
    "    # evaluation ----------------------\n",
    "    # TODO: evaluation code here\n",
    "    # results.append(evaluation(summary, texts))"
   ]
  },
  {
   "cell_type": "code",
   "execution_count": null,
   "metadata": {},
   "outputs": [],
   "source": [
    "# save config & results ----------------------\n",
    "exp_dir = os.path.join(config.experiment_name, config.exp_name)\n",
    "os.makedirs(exp_dir, exist_ok=True)\n",
    "os.system(f\"cp config.yaml {exp_dir}\")\n",
    "\n",
    "# TODO: save experiment results\n",
    "# *** important : please save the number of data you used ***\n",
    "# num_data = len(experiment_texts)"
   ]
  }
 ],
 "metadata": {
  "kernelspec": {
   "display_name": "base",
   "language": "python",
   "name": "python3"
  },
  "language_info": {
   "codemirror_mode": {
    "name": "ipython",
    "version": 3
   },
   "file_extension": ".py",
   "mimetype": "text/x-python",
   "name": "python",
   "nbconvert_exporter": "python",
   "pygments_lexer": "ipython3",
   "version": "3.12.2"
  }
 },
 "nbformat": 4,
 "nbformat_minor": 2
}
